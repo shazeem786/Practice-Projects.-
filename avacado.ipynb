{
  "cells": [
    {
      "cell_type": "markdown",
      "metadata": {
        "id": "view-in-github",
        "colab_type": "text"
      },
      "source": [
        "<a href=\"https://colab.research.google.com/github/shazeem786/Practice-Projects.-/blob/main/avacado.ipynb\" target=\"_parent\"><img src=\"https://colab.research.google.com/assets/colab-badge.svg\" alt=\"Open In Colab\"/></a>"
      ]
    },
    {
      "cell_type": "code",
      "source": [
        "from google.colab import drive\n",
        "drive.mount('/content/drive')"
      ],
      "metadata": {
        "colab": {
          "base_uri": "https://localhost:8080/"
        },
        "id": "ECJQFF7IaQ_N",
        "outputId": "26c2d169-7cd8-484d-bc8c-13955037e019"
      },
      "execution_count": null,
      "outputs": [
        {
          "output_type": "stream",
          "name": "stdout",
          "text": [
            "Drive already mounted at /content/drive; to attempt to forcibly remount, call drive.mount(\"/content/drive\", force_remount=True).\n"
          ]
        }
      ]
    },
    {
      "cell_type": "code",
      "execution_count": null,
      "metadata": {
        "_cell_guid": "b1076dfc-b9ad-4769-8c92-a6c4dae69d19",
        "_uuid": "8f2839f25d086af736a60e9eeb907d3b93b6e0e5",
        "execution": {
          "iopub.execute_input": "2021-03-09T02:51:46.853874Z",
          "iopub.status.busy": "2021-03-09T02:51:46.853178Z",
          "iopub.status.idle": "2021-03-09T02:51:48.712600Z",
          "shell.execute_reply": "2021-03-09T02:51:48.713195Z"
        },
        "papermill": {
          "duration": 1.915888,
          "end_time": "2021-03-09T02:51:48.713374",
          "exception": false,
          "start_time": "2021-03-09T02:51:46.797486",
          "status": "completed"
        },
        "tags": [],
        "id": "eRNrJxBEaP_z"
      },
      "outputs": [],
      "source": [
        "\n",
        "from datetime import datetime\n",
        "import pandas as pd\n",
        "import numpy as np\n",
        "from sklearn.preprocessing import StandardScaler, RobustScaler, MinMaxScaler, Normalizer\n",
        "from sklearn.preprocessing import OneHotEncoder\n",
        "\n",
        "import matplotlib.pyplot as plt\n",
        "from matplotlib.colors import DivergingNorm\n",
        "import seaborn as sns\n",
        "sns.set_style('whitegrid')\n",
        "from sklearn.neighbors import KNeighborsRegressor\n",
        "from sklearn.linear_model import LinearRegression\n",
        "from sklearn.linear_model import Ridge\n",
        "from sklearn.linear_model import Lasso\n",
        "from sklearn.tree import DecisionTreeRegressor\n",
        "from sklearn.model_selection import train_test_split\n",
        "\n",
        "from sklearn.neighbors import KNeighborsClassifier\n",
        "from sklearn.svm import LinearSVC\n",
        "from sklearn.tree import DecisionTreeClassifier\n",
        "\n",
        "\n",
        "\n",
        "np.warnings.filterwarnings('ignore')"
      ]
    },
    {
      "cell_type": "code",
      "execution_count": null,
      "metadata": {
        "execution": {
          "iopub.execute_input": "2021-03-09T02:51:48.912126Z",
          "iopub.status.busy": "2021-03-09T02:51:48.911387Z",
          "iopub.status.idle": "2021-03-09T02:51:48.990972Z",
          "shell.execute_reply": "2021-03-09T02:51:48.990268Z"
        },
        "papermill": {
          "duration": 0.137583,
          "end_time": "2021-03-09T02:51:48.991092",
          "exception": false,
          "start_time": "2021-03-09T02:51:48.853509",
          "status": "completed"
        },
        "tags": [],
        "id": "j8pFjEx-aP_2",
        "colab": {
          "base_uri": "https://localhost:8080/",
          "height": 311
        },
        "outputId": "ce51d191-739f-48c4-e831-264430682bdb"
      },
      "outputs": [
        {
          "output_type": "error",
          "ename": "FileNotFoundError",
          "evalue": "ignored",
          "traceback": [
            "\u001b[0;31m---------------------------------------------------------------------------\u001b[0m",
            "\u001b[0;31mFileNotFoundError\u001b[0m                         Traceback (most recent call last)",
            "\u001b[0;32m<ipython-input-11-c85b14cf223d>\u001b[0m in \u001b[0;36m<module>\u001b[0;34m()\u001b[0m\n\u001b[0;32m----> 1\u001b[0;31m \u001b[0mdata\u001b[0m\u001b[0;34m=\u001b[0m \u001b[0mpd\u001b[0m\u001b[0;34m.\u001b[0m\u001b[0mread_csv\u001b[0m\u001b[0;34m(\u001b[0m\u001b[0;34m\"/content/drive/MyDrive/shazia/avacado/avocado.csv\"\u001b[0m\u001b[0;34m)\u001b[0m\u001b[0;34m\u001b[0m\u001b[0;34m\u001b[0m\u001b[0m\n\u001b[0m",
            "\u001b[0;32m/usr/local/lib/python3.7/dist-packages/pandas/util/_decorators.py\u001b[0m in \u001b[0;36mwrapper\u001b[0;34m(*args, **kwargs)\u001b[0m\n\u001b[1;32m    309\u001b[0m                     \u001b[0mstacklevel\u001b[0m\u001b[0;34m=\u001b[0m\u001b[0mstacklevel\u001b[0m\u001b[0;34m,\u001b[0m\u001b[0;34m\u001b[0m\u001b[0;34m\u001b[0m\u001b[0m\n\u001b[1;32m    310\u001b[0m                 )\n\u001b[0;32m--> 311\u001b[0;31m             \u001b[0;32mreturn\u001b[0m \u001b[0mfunc\u001b[0m\u001b[0;34m(\u001b[0m\u001b[0;34m*\u001b[0m\u001b[0margs\u001b[0m\u001b[0;34m,\u001b[0m \u001b[0;34m**\u001b[0m\u001b[0mkwargs\u001b[0m\u001b[0;34m)\u001b[0m\u001b[0;34m\u001b[0m\u001b[0;34m\u001b[0m\u001b[0m\n\u001b[0m\u001b[1;32m    312\u001b[0m \u001b[0;34m\u001b[0m\u001b[0m\n\u001b[1;32m    313\u001b[0m         \u001b[0;32mreturn\u001b[0m \u001b[0mwrapper\u001b[0m\u001b[0;34m\u001b[0m\u001b[0;34m\u001b[0m\u001b[0m\n",
            "\u001b[0;32m/usr/local/lib/python3.7/dist-packages/pandas/io/parsers/readers.py\u001b[0m in \u001b[0;36mread_csv\u001b[0;34m(filepath_or_buffer, sep, delimiter, header, names, index_col, usecols, squeeze, prefix, mangle_dupe_cols, dtype, engine, converters, true_values, false_values, skipinitialspace, skiprows, skipfooter, nrows, na_values, keep_default_na, na_filter, verbose, skip_blank_lines, parse_dates, infer_datetime_format, keep_date_col, date_parser, dayfirst, cache_dates, iterator, chunksize, compression, thousands, decimal, lineterminator, quotechar, quoting, doublequote, escapechar, comment, encoding, encoding_errors, dialect, error_bad_lines, warn_bad_lines, on_bad_lines, delim_whitespace, low_memory, memory_map, float_precision, storage_options)\u001b[0m\n\u001b[1;32m    584\u001b[0m     \u001b[0mkwds\u001b[0m\u001b[0;34m.\u001b[0m\u001b[0mupdate\u001b[0m\u001b[0;34m(\u001b[0m\u001b[0mkwds_defaults\u001b[0m\u001b[0;34m)\u001b[0m\u001b[0;34m\u001b[0m\u001b[0;34m\u001b[0m\u001b[0m\n\u001b[1;32m    585\u001b[0m \u001b[0;34m\u001b[0m\u001b[0m\n\u001b[0;32m--> 586\u001b[0;31m     \u001b[0;32mreturn\u001b[0m \u001b[0m_read\u001b[0m\u001b[0;34m(\u001b[0m\u001b[0mfilepath_or_buffer\u001b[0m\u001b[0;34m,\u001b[0m \u001b[0mkwds\u001b[0m\u001b[0;34m)\u001b[0m\u001b[0;34m\u001b[0m\u001b[0;34m\u001b[0m\u001b[0m\n\u001b[0m\u001b[1;32m    587\u001b[0m \u001b[0;34m\u001b[0m\u001b[0m\n\u001b[1;32m    588\u001b[0m \u001b[0;34m\u001b[0m\u001b[0m\n",
            "\u001b[0;32m/usr/local/lib/python3.7/dist-packages/pandas/io/parsers/readers.py\u001b[0m in \u001b[0;36m_read\u001b[0;34m(filepath_or_buffer, kwds)\u001b[0m\n\u001b[1;32m    480\u001b[0m \u001b[0;34m\u001b[0m\u001b[0m\n\u001b[1;32m    481\u001b[0m     \u001b[0;31m# Create the parser.\u001b[0m\u001b[0;34m\u001b[0m\u001b[0;34m\u001b[0m\u001b[0;34m\u001b[0m\u001b[0m\n\u001b[0;32m--> 482\u001b[0;31m     \u001b[0mparser\u001b[0m \u001b[0;34m=\u001b[0m \u001b[0mTextFileReader\u001b[0m\u001b[0;34m(\u001b[0m\u001b[0mfilepath_or_buffer\u001b[0m\u001b[0;34m,\u001b[0m \u001b[0;34m**\u001b[0m\u001b[0mkwds\u001b[0m\u001b[0;34m)\u001b[0m\u001b[0;34m\u001b[0m\u001b[0;34m\u001b[0m\u001b[0m\n\u001b[0m\u001b[1;32m    483\u001b[0m \u001b[0;34m\u001b[0m\u001b[0m\n\u001b[1;32m    484\u001b[0m     \u001b[0;32mif\u001b[0m \u001b[0mchunksize\u001b[0m \u001b[0;32mor\u001b[0m \u001b[0miterator\u001b[0m\u001b[0;34m:\u001b[0m\u001b[0;34m\u001b[0m\u001b[0;34m\u001b[0m\u001b[0m\n",
            "\u001b[0;32m/usr/local/lib/python3.7/dist-packages/pandas/io/parsers/readers.py\u001b[0m in \u001b[0;36m__init__\u001b[0;34m(self, f, engine, **kwds)\u001b[0m\n\u001b[1;32m    809\u001b[0m             \u001b[0mself\u001b[0m\u001b[0;34m.\u001b[0m\u001b[0moptions\u001b[0m\u001b[0;34m[\u001b[0m\u001b[0;34m\"has_index_names\"\u001b[0m\u001b[0;34m]\u001b[0m \u001b[0;34m=\u001b[0m \u001b[0mkwds\u001b[0m\u001b[0;34m[\u001b[0m\u001b[0;34m\"has_index_names\"\u001b[0m\u001b[0;34m]\u001b[0m\u001b[0;34m\u001b[0m\u001b[0;34m\u001b[0m\u001b[0m\n\u001b[1;32m    810\u001b[0m \u001b[0;34m\u001b[0m\u001b[0m\n\u001b[0;32m--> 811\u001b[0;31m         \u001b[0mself\u001b[0m\u001b[0;34m.\u001b[0m\u001b[0m_engine\u001b[0m \u001b[0;34m=\u001b[0m \u001b[0mself\u001b[0m\u001b[0;34m.\u001b[0m\u001b[0m_make_engine\u001b[0m\u001b[0;34m(\u001b[0m\u001b[0mself\u001b[0m\u001b[0;34m.\u001b[0m\u001b[0mengine\u001b[0m\u001b[0;34m)\u001b[0m\u001b[0;34m\u001b[0m\u001b[0;34m\u001b[0m\u001b[0m\n\u001b[0m\u001b[1;32m    812\u001b[0m \u001b[0;34m\u001b[0m\u001b[0m\n\u001b[1;32m    813\u001b[0m     \u001b[0;32mdef\u001b[0m \u001b[0mclose\u001b[0m\u001b[0;34m(\u001b[0m\u001b[0mself\u001b[0m\u001b[0;34m)\u001b[0m\u001b[0;34m:\u001b[0m\u001b[0;34m\u001b[0m\u001b[0;34m\u001b[0m\u001b[0m\n",
            "\u001b[0;32m/usr/local/lib/python3.7/dist-packages/pandas/io/parsers/readers.py\u001b[0m in \u001b[0;36m_make_engine\u001b[0;34m(self, engine)\u001b[0m\n\u001b[1;32m   1038\u001b[0m             )\n\u001b[1;32m   1039\u001b[0m         \u001b[0;31m# error: Too many arguments for \"ParserBase\"\u001b[0m\u001b[0;34m\u001b[0m\u001b[0;34m\u001b[0m\u001b[0;34m\u001b[0m\u001b[0m\n\u001b[0;32m-> 1040\u001b[0;31m         \u001b[0;32mreturn\u001b[0m \u001b[0mmapping\u001b[0m\u001b[0;34m[\u001b[0m\u001b[0mengine\u001b[0m\u001b[0;34m]\u001b[0m\u001b[0;34m(\u001b[0m\u001b[0mself\u001b[0m\u001b[0;34m.\u001b[0m\u001b[0mf\u001b[0m\u001b[0;34m,\u001b[0m \u001b[0;34m**\u001b[0m\u001b[0mself\u001b[0m\u001b[0;34m.\u001b[0m\u001b[0moptions\u001b[0m\u001b[0;34m)\u001b[0m  \u001b[0;31m# type: ignore[call-arg]\u001b[0m\u001b[0;34m\u001b[0m\u001b[0;34m\u001b[0m\u001b[0m\n\u001b[0m\u001b[1;32m   1041\u001b[0m \u001b[0;34m\u001b[0m\u001b[0m\n\u001b[1;32m   1042\u001b[0m     \u001b[0;32mdef\u001b[0m \u001b[0m_failover_to_python\u001b[0m\u001b[0;34m(\u001b[0m\u001b[0mself\u001b[0m\u001b[0;34m)\u001b[0m\u001b[0;34m:\u001b[0m\u001b[0;34m\u001b[0m\u001b[0;34m\u001b[0m\u001b[0m\n",
            "\u001b[0;32m/usr/local/lib/python3.7/dist-packages/pandas/io/parsers/c_parser_wrapper.py\u001b[0m in \u001b[0;36m__init__\u001b[0;34m(self, src, **kwds)\u001b[0m\n\u001b[1;32m     49\u001b[0m \u001b[0;34m\u001b[0m\u001b[0m\n\u001b[1;32m     50\u001b[0m         \u001b[0;31m# open handles\u001b[0m\u001b[0;34m\u001b[0m\u001b[0;34m\u001b[0m\u001b[0;34m\u001b[0m\u001b[0m\n\u001b[0;32m---> 51\u001b[0;31m         \u001b[0mself\u001b[0m\u001b[0;34m.\u001b[0m\u001b[0m_open_handles\u001b[0m\u001b[0;34m(\u001b[0m\u001b[0msrc\u001b[0m\u001b[0;34m,\u001b[0m \u001b[0mkwds\u001b[0m\u001b[0;34m)\u001b[0m\u001b[0;34m\u001b[0m\u001b[0;34m\u001b[0m\u001b[0m\n\u001b[0m\u001b[1;32m     52\u001b[0m         \u001b[0;32massert\u001b[0m \u001b[0mself\u001b[0m\u001b[0;34m.\u001b[0m\u001b[0mhandles\u001b[0m \u001b[0;32mis\u001b[0m \u001b[0;32mnot\u001b[0m \u001b[0;32mNone\u001b[0m\u001b[0;34m\u001b[0m\u001b[0;34m\u001b[0m\u001b[0m\n\u001b[1;32m     53\u001b[0m \u001b[0;34m\u001b[0m\u001b[0m\n",
            "\u001b[0;32m/usr/local/lib/python3.7/dist-packages/pandas/io/parsers/base_parser.py\u001b[0m in \u001b[0;36m_open_handles\u001b[0;34m(self, src, kwds)\u001b[0m\n\u001b[1;32m    227\u001b[0m             \u001b[0mmemory_map\u001b[0m\u001b[0;34m=\u001b[0m\u001b[0mkwds\u001b[0m\u001b[0;34m.\u001b[0m\u001b[0mget\u001b[0m\u001b[0;34m(\u001b[0m\u001b[0;34m\"memory_map\"\u001b[0m\u001b[0;34m,\u001b[0m \u001b[0;32mFalse\u001b[0m\u001b[0;34m)\u001b[0m\u001b[0;34m,\u001b[0m\u001b[0;34m\u001b[0m\u001b[0;34m\u001b[0m\u001b[0m\n\u001b[1;32m    228\u001b[0m             \u001b[0mstorage_options\u001b[0m\u001b[0;34m=\u001b[0m\u001b[0mkwds\u001b[0m\u001b[0;34m.\u001b[0m\u001b[0mget\u001b[0m\u001b[0;34m(\u001b[0m\u001b[0;34m\"storage_options\"\u001b[0m\u001b[0;34m,\u001b[0m \u001b[0;32mNone\u001b[0m\u001b[0;34m)\u001b[0m\u001b[0;34m,\u001b[0m\u001b[0;34m\u001b[0m\u001b[0;34m\u001b[0m\u001b[0m\n\u001b[0;32m--> 229\u001b[0;31m             \u001b[0merrors\u001b[0m\u001b[0;34m=\u001b[0m\u001b[0mkwds\u001b[0m\u001b[0;34m.\u001b[0m\u001b[0mget\u001b[0m\u001b[0;34m(\u001b[0m\u001b[0;34m\"encoding_errors\"\u001b[0m\u001b[0;34m,\u001b[0m \u001b[0;34m\"strict\"\u001b[0m\u001b[0;34m)\u001b[0m\u001b[0;34m,\u001b[0m\u001b[0;34m\u001b[0m\u001b[0;34m\u001b[0m\u001b[0m\n\u001b[0m\u001b[1;32m    230\u001b[0m         )\n\u001b[1;32m    231\u001b[0m \u001b[0;34m\u001b[0m\u001b[0m\n",
            "\u001b[0;32m/usr/local/lib/python3.7/dist-packages/pandas/io/common.py\u001b[0m in \u001b[0;36mget_handle\u001b[0;34m(path_or_buf, mode, encoding, compression, memory_map, is_text, errors, storage_options)\u001b[0m\n\u001b[1;32m    705\u001b[0m                 \u001b[0mencoding\u001b[0m\u001b[0;34m=\u001b[0m\u001b[0mioargs\u001b[0m\u001b[0;34m.\u001b[0m\u001b[0mencoding\u001b[0m\u001b[0;34m,\u001b[0m\u001b[0;34m\u001b[0m\u001b[0;34m\u001b[0m\u001b[0m\n\u001b[1;32m    706\u001b[0m                 \u001b[0merrors\u001b[0m\u001b[0;34m=\u001b[0m\u001b[0merrors\u001b[0m\u001b[0;34m,\u001b[0m\u001b[0;34m\u001b[0m\u001b[0;34m\u001b[0m\u001b[0m\n\u001b[0;32m--> 707\u001b[0;31m                 \u001b[0mnewline\u001b[0m\u001b[0;34m=\u001b[0m\u001b[0;34m\"\"\u001b[0m\u001b[0;34m,\u001b[0m\u001b[0;34m\u001b[0m\u001b[0;34m\u001b[0m\u001b[0m\n\u001b[0m\u001b[1;32m    708\u001b[0m             )\n\u001b[1;32m    709\u001b[0m         \u001b[0;32melse\u001b[0m\u001b[0;34m:\u001b[0m\u001b[0;34m\u001b[0m\u001b[0;34m\u001b[0m\u001b[0m\n",
            "\u001b[0;31mFileNotFoundError\u001b[0m: [Errno 2] No such file or directory: '/content/drive/MyDrive/shazia/avacado/avocado.csv'"
          ]
        }
      ],
      "source": [
        "data= pd.read_csv(\"/content/drive/MyDrive/shazia/avacado/avocado.csv\")"
      ]
    },
    {
      "cell_type": "code",
      "source": [
        ""
      ],
      "metadata": {
        "id": "aeB6IG9y8b6n"
      },
      "execution_count": null,
      "outputs": []
    },
    {
      "cell_type": "code",
      "source": [
        "#sns.pairplot(data)"
      ],
      "metadata": {
        "id": "WAcbzZ7-sgg5"
      },
      "execution_count": null,
      "outputs": []
    },
    {
      "cell_type": "code",
      "source": [
        "data.info()"
      ],
      "metadata": {
        "id": "9baijzYVxoQy"
      },
      "execution_count": null,
      "outputs": []
    },
    {
      "cell_type": "code",
      "source": [
        "boxplot = data.boxplot(column=[ 'year','AveragePrice','Total Volume','4046','4225','4770',\n",
        "                             'Total Bags','Small Bags','XLarge Bags'])"
      ],
      "metadata": {
        "id": "XqtaoX3Jv0pZ"
      },
      "execution_count": null,
      "outputs": []
    },
    {
      "cell_type": "code",
      "execution_count": null,
      "metadata": {
        "execution": {
          "iopub.execute_input": "2021-03-09T02:51:49.220659Z",
          "iopub.status.busy": "2021-03-09T02:51:49.219675Z",
          "iopub.status.idle": "2021-03-09T02:51:49.296643Z",
          "shell.execute_reply": "2021-03-09T02:51:49.294756Z"
        },
        "papermill": {
          "duration": 0.152063,
          "end_time": "2021-03-09T02:51:49.296941",
          "exception": false,
          "start_time": "2021-03-09T02:51:49.144878",
          "status": "completed"
        },
        "tags": [],
        "id": "pNUJtnxAaP_3"
      },
      "outputs": [],
      "source": [
        "data.head()"
      ]
    },
    {
      "cell_type": "code",
      "source": [
        "data.shape"
      ],
      "metadata": {
        "id": "kyZkHaI9cIkd"
      },
      "execution_count": null,
      "outputs": []
    },
    {
      "cell_type": "code",
      "source": [
        "data.describe().T"
      ],
      "metadata": {
        "id": "4m7FAilKcLmN"
      },
      "execution_count": null,
      "outputs": []
    },
    {
      "cell_type": "code",
      "execution_count": null,
      "metadata": {
        "execution": {
          "iopub.execute_input": "2021-03-09T02:51:49.502747Z",
          "iopub.status.busy": "2021-03-09T02:51:49.495705Z",
          "iopub.status.idle": "2021-03-09T02:51:49.506660Z",
          "shell.execute_reply": "2021-03-09T02:51:49.505986Z"
        },
        "papermill": {
          "duration": 0.065281,
          "end_time": "2021-03-09T02:51:49.506799",
          "exception": false,
          "start_time": "2021-03-09T02:51:49.441518",
          "status": "completed"
        },
        "tags": [],
        "id": "E90siP1naP_4"
      },
      "outputs": [],
      "source": [
        "data.drop('Unnamed: 0', axis=1, inplace=True)"
      ]
    },
    {
      "cell_type": "code",
      "execution_count": null,
      "metadata": {
        "execution": {
          "iopub.execute_input": "2021-03-09T02:51:49.702969Z",
          "iopub.status.busy": "2021-03-09T02:51:49.702250Z",
          "iopub.status.idle": "2021-03-09T02:51:50.477275Z",
          "shell.execute_reply": "2021-03-09T02:51:50.476676Z"
        },
        "papermill": {
          "duration": 0.826698,
          "end_time": "2021-03-09T02:51:50.477399",
          "exception": false,
          "start_time": "2021-03-09T02:51:49.650701",
          "status": "completed"
        },
        "tags": [],
        "id": "PQm9Dp2naP_6"
      },
      "outputs": [],
      "source": [
        "data.isnull().sum()"
      ]
    },
    {
      "cell_type": "markdown",
      "metadata": {
        "papermill": {
          "duration": 0.058996,
          "end_time": "2021-03-09T02:52:00.133593",
          "exception": false,
          "start_time": "2021-03-09T02:52:00.074597",
          "status": "completed"
        },
        "tags": [],
        "id": "RKHvzg6qaQAC"
      },
      "source": [
        ""
      ]
    },
    {
      "cell_type": "code",
      "execution_count": null,
      "metadata": {
        "execution": {
          "iopub.execute_input": "2021-03-09T02:52:00.380155Z",
          "iopub.status.busy": "2021-03-09T02:52:00.379212Z",
          "iopub.status.idle": "2021-03-09T02:52:00.391053Z",
          "shell.execute_reply": "2021-03-09T02:52:00.390402Z"
        },
        "papermill": {
          "duration": 0.079933,
          "end_time": "2021-03-09T02:52:00.391163",
          "exception": false,
          "start_time": "2021-03-09T02:52:00.311230",
          "status": "completed"
        },
        "tags": [],
        "id": "ysgCS7WaaQAD"
      },
      "outputs": [],
      "source": [
        "data.info()"
      ]
    },
    {
      "cell_type": "code",
      "execution_count": null,
      "metadata": {
        "execution": {
          "iopub.execute_input": "2021-03-09T02:52:00.526732Z",
          "iopub.status.busy": "2021-03-09T02:52:00.525835Z",
          "iopub.status.idle": "2021-03-09T02:52:00.746201Z",
          "shell.execute_reply": "2021-03-09T02:52:00.745480Z"
        },
        "papermill": {
          "duration": 0.294703,
          "end_time": "2021-03-09T02:52:00.746318",
          "exception": false,
          "start_time": "2021-03-09T02:52:00.451615",
          "status": "completed"
        },
        "tags": [],
        "id": "mCP5pm34aQAD"
      },
      "outputs": [],
      "source": [
        "data['Date'] = data['Date'].apply(lambda x: datetime.strptime(x, '%Y-%m-%d'))\n",
        "\n",
        "data['month'] = data['Date'].dt.month\n",
        "data['day'] = data['Date'].dt.day\n",
        "\n",
        "data['day_of_week'] = data['Date'].dt.dayofweek\n",
        "dates = ['year', 'month', 'day', 'day_of_week']\n",
        "data[dates]"
      ]
    },
    {
      "cell_type": "code",
      "execution_count": null,
      "metadata": {
        "execution": {
          "iopub.execute_input": "2021-03-09T02:52:02.214208Z",
          "iopub.status.busy": "2021-03-09T02:52:02.213364Z",
          "iopub.status.idle": "2021-03-09T02:52:02.218937Z",
          "shell.execute_reply": "2021-03-09T02:52:02.218344Z"
        },
        "papermill": {
          "duration": 0.077226,
          "end_time": "2021-03-09T02:52:02.219057",
          "exception": false,
          "start_time": "2021-03-09T02:52:02.141831",
          "status": "completed"
        },
        "tags": [],
        "id": "L3O6_L6_aQAE"
      },
      "outputs": [],
      "source": [
        "data.drop('day_of_week', axis=1, inplace=True)"
      ]
    },
    {
      "cell_type": "code",
      "execution_count": null,
      "metadata": {
        "execution": {
          "iopub.execute_input": "2021-03-09T02:52:02.892049Z",
          "iopub.status.busy": "2021-03-09T02:52:02.888318Z",
          "iopub.status.idle": "2021-03-09T02:52:04.691089Z",
          "shell.execute_reply": "2021-03-09T02:52:04.691622Z"
        },
        "papermill": {
          "duration": 1.876826,
          "end_time": "2021-03-09T02:52:04.691768",
          "exception": false,
          "start_time": "2021-03-09T02:52:02.814942",
          "status": "completed"
        },
        "tags": [],
        "id": "pMGBTwshaQAF"
      },
      "outputs": [],
      "source": [
        "fig, ax = plt.subplots(1, 2, figsize=(20,8))\n",
        "\n",
        "\n",
        "\n",
        "sns.heatmap(data.corr(), vmin=-1, vmax=1,  annot=True, ax=ax[0])\n",
        "ax[0].set_title('outlier', fontsize=20)\n",
        "\n",
        "\n",
        "\n",
        "plt.show()\n"
      ]
    },
    {
      "cell_type": "code",
      "execution_count": null,
      "metadata": {
        "execution": {
          "iopub.execute_input": "2021-03-09T02:52:10.180393Z",
          "iopub.status.busy": "2021-03-09T02:52:10.178608Z",
          "iopub.status.idle": "2021-03-09T02:52:11.457510Z",
          "shell.execute_reply": "2021-03-09T02:52:11.458041Z"
        },
        "papermill": {
          "duration": 1.376819,
          "end_time": "2021-03-09T02:52:11.458194",
          "exception": false,
          "start_time": "2021-03-09T02:52:10.081375",
          "status": "completed"
        },
        "tags": [],
        "id": "cYGr-F9MaQAG"
      },
      "outputs": [],
      "source": [
        "scaler = Normalizer()\n",
        "scaler.fit(data[['4046', 'AveragePrice']].values)\n",
        "data['4046_scaled'] = scaler.transform(data[['4046', 'AveragePrice']].values)[:,0]\n",
        "data['AveragePrice_scaled'] = scaler.transform(data[['4046', 'AveragePrice']].values)[:,1]\n",
        "\n"
      ]
    },
    {
      "cell_type": "code",
      "execution_count": null,
      "metadata": {
        "execution": {
          "iopub.execute_input": "2021-03-09T02:52:13.842074Z",
          "iopub.status.busy": "2021-03-09T02:52:13.841375Z",
          "iopub.status.idle": "2021-03-09T02:52:14.339758Z",
          "shell.execute_reply": "2021-03-09T02:52:14.339142Z"
        },
        "papermill": {
          "duration": 0.579557,
          "end_time": "2021-03-09T02:52:14.339897",
          "exception": false,
          "start_time": "2021-03-09T02:52:13.760340",
          "status": "completed"
        },
        "tags": [],
        "id": "u3XGLW7jaQAI"
      },
      "outputs": [],
      "source": [
        "fig, ax = plt.subplots(1, 2, figsize=(14,5))\n",
        "\n",
        "sns.barplot(x='type', y='AveragePrice', data=data, palette='Set3', ax=ax[0])\n",
        "sns.barplot(x='type', y='Total Volume', data=data, palette='Set3', ax=ax[1], estimator=sum, ci=None)\n",
        "plt.show()\n",
        "\n",
        "display(data.groupby('type')['AveragePrice'].mean())\n",
        "display(data.groupby('type')['Total Volume'].sum())"
      ]
    },
    {
      "cell_type": "code",
      "source": [
        ""
      ],
      "metadata": {
        "id": "XD47IsY90hYK"
      },
      "execution_count": null,
      "outputs": []
    },
    {
      "cell_type": "code",
      "source": [
        "data.columns"
      ],
      "metadata": {
        "id": "OutuIWaG0hjM"
      },
      "execution_count": null,
      "outputs": []
    },
    {
      "cell_type": "code",
      "execution_count": null,
      "metadata": {
        "execution": {
          "iopub.execute_input": "2021-03-09T02:52:16.740522Z",
          "iopub.status.busy": "2021-03-09T02:52:16.739549Z",
          "iopub.status.idle": "2021-03-09T02:52:17.050650Z",
          "shell.execute_reply": "2021-03-09T02:52:17.050055Z"
        },
        "papermill": {
          "duration": 0.413448,
          "end_time": "2021-03-09T02:52:17.050799",
          "exception": false,
          "start_time": "2021-03-09T02:52:16.637351",
          "status": "completed"
        },
        "tags": [],
        "id": "yRDhCwMcaQAL"
      },
      "outputs": [],
      "source": [
        "fig, ax = plt.subplots(1, 2, figsize=(12,5))\n",
        "\n",
        "data['quarter'] = data['Date'].dt.quarter\n",
        "\n",
        "\n",
        "sns.barplot(x='quarter', y='Large Bags', data=data, palette='Greens_r', ci=None, ax=ax[0])\n",
        "sns.barplot(x='quarter', y='type', data=data, palette='Greens_r', ci=None, ax=ax[1])\n",
        "\n",
        "\n",
        "plt.show()\n",
        "\n",
        "quarter = data.groupby('quarter')[['Large Bags', 'type']].mean()\n",
        "display(quarter)"
      ]
    },
    {
      "cell_type": "markdown",
      "metadata": {
        "papermill": {
          "duration": 0.113918,
          "end_time": "2021-03-09T02:52:20.067176",
          "exception": false,
          "start_time": "2021-03-09T02:52:19.953258",
          "status": "completed"
        },
        "tags": [],
        "id": "zddDWFfHaQAN"
      },
      "source": [
        "## 8.1 Decision Tree Classifier"
      ]
    },
    {
      "cell_type": "code",
      "execution_count": null,
      "metadata": {
        "execution": {
          "iopub.execute_input": "2021-03-09T02:52:20.257633Z",
          "iopub.status.busy": "2021-03-09T02:52:20.256662Z",
          "iopub.status.idle": "2021-03-09T02:52:20.451039Z",
          "shell.execute_reply": "2021-03-09T02:52:20.450107Z"
        },
        "papermill": {
          "duration": 0.293151,
          "end_time": "2021-03-09T02:52:20.451181",
          "exception": false,
          "start_time": "2021-03-09T02:52:20.158030",
          "status": "completed"
        },
        "tags": [],
        "id": "pvLmzkAsaQAN"
      },
      "outputs": [],
      "source": [
        "dataTree = data.drop(['Date', 'region', '4046_scaled', 'AveragePrice_scaled'], axis=1)\n",
        "\n",
        "target = dataTree['type']\n",
        "features = dataTree.drop(['type'], axis=1)\n",
        "\n",
        "X_train, X_test, y_train, y_test = train_test_split(features.values, target.values, random_state=0)\n",
        "\n",
        "tree = DecisionTreeClassifier(max_depth=7, random_state=0).fit(X_train, y_train)\n",
        "\n",
        "print(\"training set score : {:.2f}\".format(tree.score(X_train, y_train)))\n",
        "print(\"test set score: {:.2f}\".format(tree.score(X_test, y_test)))\n",
        "\n",
        "\n"
      ]
    },
    {
      "cell_type": "markdown",
      "metadata": {
        "papermill": {
          "duration": 0.089252,
          "end_time": "2021-03-09T02:52:23.737546",
          "exception": false,
          "start_time": "2021-03-09T02:52:23.648294",
          "status": "completed"
        },
        "tags": [],
        "id": "t_IKDAB0aQAO"
      },
      "source": [
        "\n",
        "## 9.1 Decision Tree Regressor\n"
      ]
    },
    {
      "cell_type": "code",
      "execution_count": null,
      "metadata": {
        "execution": {
          "iopub.execute_input": "2021-03-09T02:52:23.934993Z",
          "iopub.status.busy": "2021-03-09T02:52:23.934265Z",
          "iopub.status.idle": "2021-03-09T02:52:23.942731Z",
          "shell.execute_reply": "2021-03-09T02:52:23.942132Z"
        },
        "papermill": {
          "duration": 0.113118,
          "end_time": "2021-03-09T02:52:23.942869",
          "exception": false,
          "start_time": "2021-03-09T02:52:23.829751",
          "status": "completed"
        },
        "tags": [],
        "id": "7UoHReypaQAO"
      },
      "outputs": [],
      "source": [
        "#Predicting average price\n",
        "data_model = data.drop(['Date', '4046_scaled', 'AveragePrice_scaled', 'type', 'region'], axis=1)\n",
        "target = data_model['AveragePrice']\n",
        "features = data_model.drop(['AveragePrice'], axis=1)\n",
        "\n",
        "#"
      ]
    },
    {
      "cell_type": "code",
      "execution_count": null,
      "metadata": {
        "execution": {
          "iopub.execute_input": "2021-03-09T02:52:24.130595Z",
          "iopub.status.busy": "2021-03-09T02:52:24.129908Z",
          "iopub.status.idle": "2021-03-09T02:52:24.339907Z",
          "shell.execute_reply": "2021-03-09T02:52:24.339207Z"
        },
        "papermill": {
          "duration": 0.307589,
          "end_time": "2021-03-09T02:52:24.340021",
          "exception": false,
          "start_time": "2021-03-09T02:52:24.032432",
          "status": "completed"
        },
        "tags": [],
        "id": "DyfAjgFaaQAO"
      },
      "outputs": [],
      "source": [
        "X_train, X_test, y_train, y_test = train_test_split(features.values, target.values, random_state=0)\n",
        "tree = DecisionTreeRegressor(max_depth=14, random_state=0).fit(X_train, y_train)\n",
        "print(\"training set score : {:.2f}\".format(tree.score(X_train, y_train)))\n",
        "print(\"test set score: {:.2f}\".format(tree.score(X_test, y_test)))\n",
        "\n"
      ]
    }
  ],
  "metadata": {
    "kernelspec": {
      "display_name": "Python 3",
      "language": "python",
      "name": "python3"
    },
    "language_info": {
      "codemirror_mode": {
        "name": "ipython",
        "version": 3
      },
      "file_extension": ".py",
      "mimetype": "text/x-python",
      "name": "python",
      "nbconvert_exporter": "python",
      "pygments_lexer": "ipython3",
      "version": "3.7.6"
    },
    "papermill": {
      "duration": 47.569758,
      "end_time": "2021-03-09T02:52:27.864916",
      "environment_variables": {},
      "exception": null,
      "input_path": "__notebook__.ipynb",
      "output_path": "__notebook__.ipynb",
      "parameters": {},
      "start_time": "2021-03-09T02:51:40.295158",
      "version": "2.1.0"
    },
    "colab": {
      "name": "avacado.ipynb",
      "provenance": [],
      "collapsed_sections": [],
      "include_colab_link": true
    },
    "accelerator": "GPU"
  },
  "nbformat": 4,
  "nbformat_minor": 0
}